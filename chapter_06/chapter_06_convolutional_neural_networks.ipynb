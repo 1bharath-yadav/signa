{
 "cells": [
  {
   "cell_type": "markdown",
   "id": "34006ee1-51e5-4a48-82de-021a71e1201a",
   "metadata": {
    "tags": []
   },
   "source": [
    "# StatQuest: Convolutional Neural Networks!!!\n",
    "\n",
    "Copyright 2024, Joshua Starmer"
   ]
  },
  {
   "cell_type": "markdown",
   "id": "7cf0aedd-9400-4ce1-8885-d800f997cb6b",
   "metadata": {},
   "source": [
    "---- \n",
    "\n",
    "In this Studio, we will use **[PyTorch](https://pytorch.org/) + [Lightning](https://www.lightning.ai/)** to create and optimize a simple Convolutional Neural Network (CNN) like the one shown in the picture below. Convolutional neural networks are used for image classification, so when your phone thinks you've taken a picture of a cute kitten, that picture was probably classified with a CNN. In this case, we will create a network that can classify Xs and Os during a game of tic-tac-toe.\n",
    "\n",
    "<img src=\"./images/annotated_cnn.png\" alt=\"a simple convolutional neural network\" style=\"width: 600px;\">\n",
    "\n",
    "In this tutorial, you will...\n",
    "\n",
    "- **[Create Data and then Build a DataLoader From Scratch](#data)**\n",
    "- **[Build a Simple Convolutional Neural Network](#build)**\n",
    "- **[Train the Convolutional Neural Network](#train)**\n",
    "- **[Classify New Images](#predict)**\n",
    "\n",
    "#### NOTE:\n",
    "This tutorial assumes that you already know the basics of coding in **Python** and are familiar with the theory behind **[Convolutional Neural Networks](https://youtu.be/HGwBXDKFk9I)** and  **[Backpropagation](https://youtu.be/IN2XmBhILt4)**. If not, check out the **StatQuests** by clicking on the links for each topic."
   ]
  },
  {
   "cell_type": "markdown",
   "id": "9c3669a0-284c-48f7-9c73-19812e2a8fac",
   "metadata": {},
   "source": [
    "-----"
   ]
  },
  {
   "cell_type": "markdown",
   "id": "5b4feccd-8472-4bb2-bc56-ea41e527d714",
   "metadata": {},
   "source": [
    "# Import the modules that will do all the work\n",
    "\n",
    "The very first thing we need to do is load a bunch of Python modules. Python itself is just a basic programming language. These modules give us extra functionality to create and train a Neural Network."
   ]
  },
  {
   "cell_type": "code",
   "execution_count": 1,
   "id": "e18741e9-1427-4e24-8154-b6cff9cbe91b",
   "metadata": {},
   "outputs": [],
   "source": [
    "%%capture \n",
    "# %%capture prevents this cell from printing a ton of STDERR stuff to the screen\n",
    "\n",
    "## NOTE: Uncomment the next line to install stuff if you need to.\n",
    "##       Also, installing can take a few minutes...\n",
    "# !pip install lightning seaborn"
   ]
  },
  {
   "cell_type": "code",
   "execution_count": 2,
   "id": "2e6b9647-24a8-4c13-9665-a036d9a8e121",
   "metadata": {},
   "outputs": [
    {
     "name": "stderr",
     "output_type": "stream",
     "text": [
      "/Users/joshstarmer/Library/Python/3.9/lib/python/site-packages/urllib3/__init__.py:35: NotOpenSSLWarning: urllib3 v2 only supports OpenSSL 1.1.1+, currently the 'ssl' module is compiled with 'LibreSSL 2.8.3'. See: https://github.com/urllib3/urllib3/issues/3020\n",
      "  warnings.warn(\n"
     ]
    }
   ],
   "source": [
    "import torch # torch will allow us to create tensors.\n",
    "import torch.nn as nn # torch.nn allows us to create a neural network.\n",
    "import torch.nn.functional as F # nn.functional give us access to the activation and loss functions.\n",
    "from torch.optim import Adam # optim contains many optimizers. This time we're using Adam\n",
    "\n",
    "import lightning as L # lightning has tons of cool tools that make neural networks easier\n",
    "from torch.utils.data import TensorDataset, DataLoader # these are needed for the training data\n",
    "\n",
    "import matplotlib.pyplot as plt ## matplotlib allows us to draw the images used for input."
   ]
  },
  {
   "cell_type": "markdown",
   "id": "e18e66ff-db47-4057-9f50-7c9576ec58ee",
   "metadata": {},
   "source": [
    "----"
   ]
  },
  {
   "cell_type": "markdown",
   "id": "d23672f4-c30e-42de-9d35-5fa6b9bfd0f5",
   "metadata": {},
   "source": [
    "<a id=\"data\"></a>\n",
    "# Create Images and then Build a DataLoader From Scratch.\n",
    "\n",
    "Once we have the Python modules imported, we need to create the images to train and test our neural network. Specifically, we'll create an image of the letters **O** and **X** that look like the pictures below.\n",
    "\n",
    "<img src=\"./images/training_data.png\" alt=\"a convolutional neural network\" style=\"width: 300px;\">"
   ]
  },
  {
   "cell_type": "markdown",
   "id": "f5fcc4d3-9dd9-42d8-87ab-aea0472448fc",
   "metadata": {},
   "source": [
    "We'll start by creating the image of the letter **O** by creating a 6x6 matrix of numbers where 0 represents white and 1 represents black."
   ]
  },
  {
   "cell_type": "code",
   "execution_count": 3,
   "id": "30fc065c-c267-44ba-b62c-4e96f58b9166",
   "metadata": {},
   "outputs": [
    {
     "data": {
      "text/plain": [
       "[[0, 0, 1, 1, 0, 0],\n",
       " [0, 1, 0, 0, 1, 0],\n",
       " [1, 0, 0, 0, 0, 1],\n",
       " [1, 0, 0, 0, 0, 1],\n",
       " [0, 1, 0, 0, 1, 0],\n",
       " [0, 0, 1, 1, 0, 0]]"
      ]
     },
     "execution_count": 3,
     "metadata": {},
     "output_type": "execute_result"
    }
   ],
   "source": [
    "## Create a 6x6 matrix of numbers where 0 represents white\n",
    "## and 1 represents black.\n",
    "o_image = [[0, 0, 1, 1, 0, 0],\n",
    "           [0, 1, 0, 0, 1, 0],\n",
    "           [1, 0, 0, 0, 0, 1],\n",
    "           [1, 0, 0, 0, 0, 1],\n",
    "           [0, 1, 0, 0, 1, 0],\n",
    "           [0, 0, 1, 1, 0, 0]]\n",
    "o_image # print out the matrix to verify that it is what we expect"
   ]
  },
  {
   "cell_type": "markdown",
   "id": "fe31198b-5d70-4f39-9ee5-af673732d1e7",
   "metadata": {},
   "source": [
    "Now, let's create an image of the letter **X** by creating a similar 6x6 matrix, where the 1s are now in an **X** pattern."
   ]
  },
  {
   "cell_type": "code",
   "execution_count": 4,
   "id": "56b28183-d900-458e-aaef-28dfe9c7cec6",
   "metadata": {},
   "outputs": [
    {
     "data": {
      "text/plain": [
       "[[1, 0, 0, 0, 0, 1],\n",
       " [0, 1, 0, 0, 1, 0],\n",
       " [0, 0, 1, 1, 0, 0],\n",
       " [0, 0, 1, 1, 0, 0],\n",
       " [0, 1, 0, 0, 1, 0],\n",
       " [1, 0, 0, 0, 0, 1]]"
      ]
     },
     "execution_count": 4,
     "metadata": {},
     "output_type": "execute_result"
    }
   ],
   "source": [
    "x_image = [[1, 0, 0, 0, 0, 1],\n",
    "           [0, 1, 0, 0, 1, 0],\n",
    "           [0, 0, 1, 1, 0, 0],\n",
    "           [0, 0, 1, 1, 0, 0],\n",
    "           [0, 1, 0, 0, 1, 0],\n",
    "           [1, 0, 0, 0, 0, 1]]\n",
    "x_image"
   ]
  },
  {
   "cell_type": "markdown",
   "id": "44a3661a-e60e-4cc0-a06b-efcafab2bc25",
   "metadata": {},
   "source": [
    "By squinting at the matrices we created for `o_image` and `x_image`, we can sort of see that we made them correctly. However, by drawing the images with matplotlib, we can get a much clearer picture, or rather, we can get much clearer pictures, of what we have done so far."
   ]
  },
  {
   "cell_type": "code",
   "execution_count": 5,
   "id": "3d27f684-10dd-4887-962e-b89409f3e3f9",
   "metadata": {},
   "outputs": [
    {
     "data": {
      "text/plain": [
       "<matplotlib.image.AxesImage at 0x143af6f70>"
      ]
     },
     "execution_count": 5,
     "metadata": {},
     "output_type": "execute_result"
    },
    {
     "data": {
      "image/png": "[encoded data removed]",
      "text/plain": [
       "<Figure size 500x500 with 2 Axes>"
      ]
     },
     "metadata": {},
     "output_type": "display_data"
    }
   ],
   "source": [
    "## To draw the o_image and x_image, we first call subplots(), which creates \n",
    "## an array, called axarr[], with an entry for each element in a grid\n",
    "## specified by nrows and ncols.\n",
    "fig, axarr = plt.subplots(nrows=1, ncols=2, figsize=(5, 5))\n",
    "\n",
    "## Now we pass o_image and x_image to .imshow() for each element\n",
    "## in the grid created by plt.subplots()\n",
    "axarr[0].imshow(o_image, cmap='gray_r') ## Setting cmap='gray_r' gives us reverse grayscale.\n",
    "axarr[1].imshow(x_image, cmap='gray_r')"
   ]
  },
  {
   "cell_type": "markdown",
   "id": "b05fb7a5-812b-4838-97b1-00e2ae6f59d3",
   "metadata": {},
   "source": [
    "Now, let's put our training data into a **DataLoader**, which we can use to train the neural network. **DataLoaders** are great for large datasets because they make it easy to access the data in batches, make it easy to shuffle the data each epoch, and they make it easy to use a relatively small fraction of the data if we want to do a quick and dirty training for debugging our code.\n",
    "\n",
    "To put our data training data into a **DataLoader**...\n",
    "\n",
    "- We'll start by converting the images into tensors with `torch.tensor()` and save them as `input_images`. "
   ]
  },
  {
   "cell_type": "code",
   "execution_count": 6,
   "id": "5c0b7cbe-71f3-4d03-b291-bcd0e0efd138",
   "metadata": {},
   "outputs": [],
   "source": [
    "## Convert the images into tensors...\n",
    "input_images = torch.tensor([o_image, x_image]).type(torch.float32)"
   ]
  },
  {
   "cell_type": "markdown",
   "id": "5fedb584-dcb0-4e1b-ba22-f7ebaa40cfb0",
   "metadata": {},
   "source": [
    "**NOTE:** When we call `torch.tensor()`, we tack on `type(torch.float32)` to ensure the numbers are saved in the correct format for the neural network to process efficiently."
   ]
  },
  {
   "cell_type": "markdown",
   "id": "15f8dc01-dfe3-4583-99c4-1f3c07c30dfe",
   "metadata": {},
   "source": [
    "- Then, we'll create tensors for the labels, the ideal output values given each input image. In this example, our convolutional neural network has 2 outputs, one for the letter **O** and one for the letter **X**, so `[1.0, 0.0]` will represent the ideal output for the letter **O**, and `[0.0, 1.0]` will represent the ideal output for the letter **X**. The labels will be saved in `input_labels`."
   ]
  },
  {
   "cell_type": "code",
   "execution_count": 7,
   "id": "c4da9669-2834-4702-a708-fe357d0f8763",
   "metadata": {},
   "outputs": [],
   "source": [
    "## Create the labels for the input images\n",
    "input_labels = torch.tensor([[1.0, 0.0], [0.0, 1.0]]).type(torch.float32)"
   ]
  },
  {
   "cell_type": "markdown",
   "id": "2cc9fef8-7737-4262-acbf-f7307d0015bb",
   "metadata": {},
   "source": [
    "- Then, we'll combine `input_images` with `input_labels` to create a **TensorDataset** and use the **TensorDataset** to create the **DataLoader**."
   ]
  },
  {
   "cell_type": "code",
   "execution_count": 8,
   "id": "e3e4d801-a6e2-42c6-9c68-279a0555a4f7",
   "metadata": {},
   "outputs": [],
   "source": [
    "## Now combine input_images and input_labels into a TensorDataset...\n",
    "dataset = TensorDataset(input_images, input_labels) \n",
    "## ...and use the TensorDataset to create a DataLoader.\n",
    "dataloader = DataLoader(dataset)"
   ]
  },
  {
   "cell_type": "markdown",
   "id": "c9ca312e-fb67-4973-8009-9cf0be837a20",
   "metadata": {},
   "source": [
    "Now, just for fun, we can verify that `dataloader` contains the input images and labels by using it in a `for` loop and printing out the images and labels."
   ]
  },
  {
   "cell_type": "code",
   "execution_count": 9,
   "id": "63ce7d8f-c2a5-4859-92ed-30beb59f9a33",
   "metadata": {},
   "outputs": [
    {
     "name": "stdout",
     "output_type": "stream",
     "text": [
      "batch_num: 0\n",
      "tensor([[[0., 0., 1., 1., 0., 0.],\n",
      "         [0., 1., 0., 0., 1., 0.],\n",
      "         [1., 0., 0., 0., 0., 1.],\n",
      "         [1., 0., 0., 0., 0., 1.],\n",
      "         [0., 1., 0., 0., 1., 0.],\n",
      "         [0., 0., 1., 1., 0., 0.]]])\n",
      "tensor([[1., 0.]])\n",
      "\n",
      "batch_num: 1\n",
      "tensor([[[1., 0., 0., 0., 0., 1.],\n",
      "         [0., 1., 0., 0., 1., 0.],\n",
      "         [0., 0., 1., 1., 0., 0.],\n",
      "         [0., 0., 1., 1., 0., 0.],\n",
      "         [0., 1., 0., 0., 1., 0.],\n",
      "         [1., 0., 0., 0., 0., 1.]]])\n",
      "tensor([[0., 1.]])\n",
      "\n"
     ]
    }
   ],
   "source": [
    "for batch_num, (images, labels) in enumerate(dataloader): \n",
    "    print(\"batch_num:\", batch_num)\n",
    "    print(images)\n",
    "    print(labels)\n",
    "    print() ## print a blank line to separate each batch"
   ]
  },
  {
   "cell_type": "markdown",
   "id": "31955e37-156e-4c5b-b4bd-806d0e6e2d74",
   "metadata": {},
   "source": [
    "# BAM!\n",
    "\n",
    "At long last, we have created the **DataLoader** that we will use to train a convolutional neural network. Now, let's build it!"
   ]
  },
  {
   "cell_type": "markdown",
   "id": "7a3fb953-440f-4930-a018-050070e67040",
   "metadata": {},
   "source": [
    "----"
   ]
  },
  {
   "cell_type": "markdown",
   "id": "09b97945-a5bb-47d2-a07a-04b0dce01539",
   "metadata": {
    "tags": []
   },
   "source": [
    "<a id=\"build\"></a>\n",
    "# Building a convolutional neural network with PyTorch and Lightning"
   ]
  },
  {
   "cell_type": "markdown",
   "id": "98ed8a32-4aeb-4a4e-9c6c-4bfff11ba0ea",
   "metadata": {},
   "source": [
    "Building a convolutional neural network with PyTorch means creating a new class. And to make it easy to train the neural network, this class will inherit from `LightningModule`.\n",
    "\n",
    "Our new class will have the following methods:\n",
    "- `__init__()` to initialize the weights and biases and keep track of a few other housekeeping things.\n",
    "- `forward()` to make a forward pass through the convolutional neural network.\n",
    "- `configure_optimizers()` to configure the optimizer. In this tutorial, we'll use `Adam`.\n",
    "- `training_step()` to pass the training data to `forward()`, calculate the loss, and keep track of the loss values in a log file.\n",
    "\n",
    "Here is a picture of the neural network we want to create:\n",
    "\n",
    "<img src=\"./images/annotated_cnn.png\" alt=\"a simple convolutional neural network\" style=\"width: 600px;\">"
   ]
  },
  {
   "cell_type": "markdown",
   "id": "73f26851-96df-4a84-b1ce-3351e61adf25",
   "metadata": {},
   "source": [
    "As we can see in the picture, our convolutional neural network accepts a 6x6 image as the input. Then, it applies a 3x3 filter, or kernel, to the image. That is the convolutional step in a convolutional neural network. Anyway, then we run the output from the filter through a **[ReLU](https://youtu.be/68BZ5f7P94E)** activation function before a max pooling step. Lastly, we run the max pooling values through a simple neural network with 4 inputs and 2 outputs.\n",
    "\n",
    "**NOTE:** This specific convolutional neural network is super simple. Usually, the images have multiple color channels (one for red, one for blue, and one for green), and multiple filters are applied to each channel. The output from these filters can then be run through multiple layers of filters. In contrast, our example is super simple, so we'll call it `SimpleCNN`."
   ]
  },
  {
   "cell_type": "code",
   "execution_count": 10,
   "id": "7879b36c-947f-4638-9287-d6d1d50e734b",
   "metadata": {},
   "outputs": [],
   "source": [
    "## Now build a simple CNN...\n",
    "class SimpleCNN(L.LightningModule):\n",
    "    \n",
    "    def __init__(self):\n",
    "        \n",
    "        super().__init__() ## We call the __init__() for the parent, LightningModule, so that it\n",
    "                           ## can initialize itself as well.\n",
    "        \n",
    "        ## Now we set the seed for the random number generorator.\n",
    "        ## This ensures that when you create a model from this class, that model\n",
    "        ## will start off with the exact same random numbers that I started out with when\n",
    "        ## I created this demo. At least, I hope that is what happens!!! :)\n",
    "        L.seed_everything(seed=42)\n",
    "        \n",
    "        ############################################################################\n",
    "        ##\n",
    "        ## Here is where we initialize the Weights and Biases for the CNN\n",
    "        ##\n",
    "        ############################################################################\n",
    "        \n",
    "        ## The filter is created and applied by nn.Conv2d().\n",
    "        ## in_channels - The number of color channels that\n",
    "        ##    the image has. Our black and white image only \n",
    "        ##    has one channel. However, color pictures usually have 3.\n",
    "        ## out_channels - If we had multiple input channels, we could merge\n",
    "        ##    them down to one output. Or we can increase the number of\n",
    "        ##    output channels if we want.\n",
    "        ## kernel_size - The size of the filter (aka kernel). In this case\n",
    "        ##    we want a 3x3 filter, but you can select all kinds of sizes,\n",
    "        ##    including sizes that are more rectangular than square.\n",
    "        self.conv = nn.Conv2d(in_channels=1, out_channels=1, kernel_size=3)\n",
    "        \n",
    "        ## nn.MaxPool2d() does the max pooling step.\n",
    "        ## kernel_size - The size of the filter (aka kernel) that does the\n",
    "        ##    max pooling. We're using a 2x2 grid for our filter.\n",
    "        ## stride - How much to move the filter each step. In this case\n",
    "        ##    we're moving it 2 units. Thus, our 2x2 filter does max pooling\n",
    "        ##    before moving 2 units over (or down). This means that our \n",
    "        ##    max pooling filter never overlaps itself.\n",
    "        self.pool = nn.MaxPool2d(kernel_size=2, stride=2)\n",
    "        \n",
    "        ## Lastly, we create the \"normal\" neural network that has\n",
    "        ## 4 inputs, in_features=4, going to a single activation function, out_features=1, \n",
    "        ## in a single hidden layer...\n",
    "        self.input_to_hidden = nn.Linear(in_features=4, out_features=1)\n",
    "        ## ..and the single hidden layer, in_features=1, goes to\n",
    "        ## two outputs, out_features=2\n",
    "        self.hidden_to_output = nn.Linear(in_features=1, out_features=2)\n",
    "        \n",
    "        ## We'll use Cross Entropy to calculate the loss between what the \n",
    "        ## neural network's predictions and actual, or known, species for\n",
    "        ## each row in the dataset.\n",
    "        ## To learn more about Cross Entropy, see: https://youtu.be/6ArSys5qHAU\n",
    "        ## NOTE: nn.CrossEntropyLoss applies a SoftMax function to the values\n",
    "        ## we give it, so we don't have to do that oursevles. However,\n",
    "        ## when we use this neural network (after it has been trained), we'll\n",
    "        ## have to remember to apply a SoftMax function to the output.\n",
    "        self.loss = nn.CrossEntropyLoss()\n",
    "\n",
    "        \n",
    "    def forward(self, x):\n",
    "        \n",
    "        ## First we apply a filter to the input image\n",
    "        x = self.conv(x)\n",
    "        \n",
    "        ## Then we run the output from the filter through a ReLU...\n",
    "        x = F.relu(x)\n",
    "        \n",
    "        ## Then we run the output from the ReLU through a Max Pooling layer...\n",
    "        x = self.pool(x)\n",
    "        \n",
    "        ## Now, at this point we have a square matrix of values.\n",
    "        ## So, in order to use those values as inputs to\n",
    "        ## a neural network, we use torch.flatten() to \n",
    "        ## turn the matrix into a vector.\n",
    "        x = torch.flatten(x, 1) # flatten all dimensions except batch \n",
    "\n",
    "        ## Now we run the flattened values through a neural network\n",
    "        ## with a single hidden layer and a single ReLU activation\n",
    "        ## function in that layer.\n",
    "        x = self.input_to_hidden(x)\n",
    "        x = F.relu(x)\n",
    "        x = self.hidden_to_output(x)\n",
    "        \n",
    "        return x\n",
    "\n",
    "    \n",
    "    def configure_optimizers(self):\n",
    "        ## In this example, configuring the optimizer\n",
    "        ## consists of passing it the weights and biases we want\n",
    "        ## to optimize, which are all in self.parameters(),\n",
    "        ## and setting the learning rate with lr=0.001.\n",
    "        return Adam(self.parameters(), lr=0.001)\n",
    "\n",
    "    \n",
    "    def training_step(self, batch, batch_idx):\n",
    "        ## The first thing we do is split 'batch'\n",
    "        ## into the input and label values.\n",
    "        inputs, labels = batch \n",
    "        \n",
    "        ## Then we run the input through the neural network\n",
    "        outputs = self.forward(inputs)\n",
    "        \n",
    "        ## Then we calculate the loss.\n",
    "        loss = self.loss(outputs, labels)\n",
    "        \n",
    "        ## Lastly, we could add the loss to a log file\n",
    "        ## so that we can graph it later. This would\n",
    "        ## help us decide if we have done enough training\n",
    "        ## Ideally, if we do enough training, the loss\n",
    "        ## should be small and not getting any smaller.\n",
    "        # self.log(\"loss\", loss) \n",
    "        \n",
    "        return loss"
   ]
  },
  {
   "cell_type": "markdown",
   "id": "70a1ec20-c2d3-45f7-8ce7-e1c1df469f6d",
   "metadata": {},
   "source": [
    "Now that we've created a class for our neural network, let's train it."
   ]
  },
  {
   "cell_type": "markdown",
   "id": "921a6dd7-44ec-44ba-bffa-e0ab6eaa59d9",
   "metadata": {},
   "source": [
    "----"
   ]
  },
  {
   "cell_type": "markdown",
   "id": "645699fb-e215-46f2-b730-2e9276d0a407",
   "metadata": {
    "tags": []
   },
   "source": [
    "<a id=\"train\"></a>\n",
    "# Training our Neural Network"
   ]
  },
  {
   "cell_type": "markdown",
   "id": "6c2a3cac-ccb9-49d2-96fc-b797d7e0823c",
   "metadata": {},
   "source": [
    "Training our new convolutional neural network means we create a model from the new class, `SimpleCNN`..."
   ]
  },
  {
   "cell_type": "code",
   "execution_count": 11,
   "id": "7cb78b2a-cd0b-4072-97cb-664259e5aeaa",
   "metadata": {},
   "outputs": [
    {
     "name": "stderr",
     "output_type": "stream",
     "text": [
      "Seed set to 42\n"
     ]
    }
   ],
   "source": [
    "model = SimpleCNN()"
   ]
  },
  {
   "cell_type": "markdown",
   "id": "cb353a83-3690-4a36-a164-e60e499bc79f",
   "metadata": {},
   "source": [
    "...and then create a **Lightning Trainer**, `L.Trainer()`, and use it to optimize the parameters. **NOTE:** We will start with 100 epochs, 100 complete runs through our training data. This may be enough to successfully optimize all of the parameters, but it might not."
   ]
  },
  {
   "cell_type": "code",
   "execution_count": 12,
   "id": "51b994c8-46d0-4f06-a561-c49a75f5fda9",
   "metadata": {},
   "outputs": [
    {
     "name": "stderr",
     "output_type": "stream",
     "text": [
      "GPU available: True (mps), used: True\n",
      "TPU available: False, using: 0 TPU cores\n",
      "HPU available: False, using: 0 HPUs\n",
      "/Users/joshstarmer/Library/Python/3.9/lib/python/site-packages/lightning/pytorch/trainer/connectors/logger_connector/logger_connector.py:75: Starting from v1.9.0, `tensorboardX` has been removed as a dependency of the `lightning.pytorch` package, due to potential conflicts with other packages in the ML ecosystem. For this reason, `logger=True` will use `CSVLogger` as the default logger, unless the `tensorboard` or `tensorboardX` packages are found. Please `pip install lightning[extra]` or one of them to enable TensorBoard support by default\n",
      "Missing logger folder: /Users/joshstarmer/My Drive/stat_quests/book_statquest_illustrated_guide_to_neural_networks_and_ai/jupyter_notebooks/chapter_06/lightning_logs\n",
      "\n",
      "  | Name             | Type             | Params | Mode \n",
      "--------------------------------------------------------------\n",
      "0 | conv             | Conv2d           | 10     | train\n",
      "1 | pool             | MaxPool2d        | 0      | train\n",
      "2 | input_to_hidden  | Linear           | 5      | train\n",
      "3 | hidden_to_output | Linear           | 4      | train\n",
      "4 | loss             | CrossEntropyLoss | 0      | train\n",
      "--------------------------------------------------------------\n",
      "19        Trainable params\n",
      "0         Non-trainable params\n",
      "19        Total params\n",
      "0.000     Total estimated model params size (MB)\n",
      "/Users/joshstarmer/Library/Python/3.9/lib/python/site-packages/lightning/pytorch/trainer/connectors/data_connector.py:424: The 'train_dataloader' does not have many workers which may be a bottleneck. Consider increasing the value of the `num_workers` argument` to `num_workers=7` in the `DataLoader` to improve performance.\n",
      "/Users/joshstarmer/Library/Python/3.9/lib/python/site-packages/lightning/pytorch/loops/fit_loop.py:298: The number of training batches (2) is smaller than the logging interval Trainer(log_every_n_steps=50). Set a lower value for log_every_n_steps if you want to see logs for the training epoch.\n"
     ]
    },
    {
     "data": {
      "application/vnd.jupyter.widget-view+json": {
       "model_id": "88a0c14f9e794f80b933c5988f3c9182",
       "version_major": 2,
       "version_minor": 0
      },
      "text/plain": [
       "Training: |                                               | 0/? [00:00<?, ?it/s]"
      ]
     },
     "metadata": {},
     "output_type": "display_data"
    },
    {
     "name": "stderr",
     "output_type": "stream",
     "text": [
      "`Trainer.fit` stopped: `max_epochs=100` reached.\n"
     ]
    }
   ],
   "source": [
    "trainer = L.Trainer(max_epochs=100)\n",
    "trainer.fit(model, train_dataloaders=dataloader)"
   ]
  },
  {
   "cell_type": "markdown",
   "id": "2dc0b74a-127c-49aa-8168-91dd28483b5f",
   "metadata": {},
   "source": [
    "Hooray! We've trained the model with 100 epochs! Now, let's see if the predictions are any good. We can do this by seeing how well it classifies the original training data. And we can do this using a `for` loop, just like we did earlier when we used to print out the contents of the **DataLoader** that we used for training.\n",
    "\n",
    "**NOTE:** The **[CrossEntropy](https://youtu.be/6ArSys5qHAU)** loss function we use during training applies a SoftMax function to the outputs. Thus, now that we're using the model, we'll apply `torch.softmax()` to its output. This will make it easier to read and interpret. And to make it even easier to read, we can run it through `torch.round()`."
   ]
  },
  {
   "cell_type": "code",
   "execution_count": 13,
   "id": "f92d56c6-498d-47f6-adc4-ada1d52dfa93",
   "metadata": {},
   "outputs": [
    {
     "name": "stdout",
     "output_type": "stream",
     "text": [
      "predicted_label: tensor([[0.5200, 0.4800]], grad_fn=<RoundBackward1>)\n",
      "original label: tensor([[1., 0.]])\n",
      "\n",
      "\n",
      "predicted_label: tensor([[0.4200, 0.5800]], grad_fn=<RoundBackward1>)\n",
      "original label: tensor([[0., 1.]])\n",
      "\n",
      "\n"
     ]
    }
   ],
   "source": [
    "for batch_num, (image, label) in enumerate(dataloader):\n",
    "    \n",
    "    ## First, run the image through the model to make a prediction\n",
    "    prediction = model(image)\n",
    "    \n",
    "    ## Now make the prediction easy to read and interpret by\n",
    "    ## running it through torch.softmax() and torch.round()\n",
    "    predicted_label = torch.round(torch.softmax(prediction, dim=1), ## dim=0 applies softmax to rows, dim=1 applies soft to columns\n",
    "                                  decimals=2) \n",
    "    \n",
    "    ## Now print out the the predicted label and the original label\n",
    "    ## so we see how well our CNN performed.\n",
    "    print(\"predicted_label:\", predicted_label)\n",
    "    print(\"original label:\", label)\n",
    "    print(\"\\n\")"
   ]
  },
  {
   "cell_type": "markdown",
   "id": "742bc94d-a7b7-4101-a8a7-38e6b2a525e2",
   "metadata": {},
   "source": [
    "As we can see in the output printed above, after 100 epochs of training, our convolutional neural network is not making good predictions. So let's do a lot more training."
   ]
  },
  {
   "cell_type": "markdown",
   "id": "261fdd41-2caa-43be-8c78-0c2d64f08f3d",
   "metadata": {},
   "source": [
    "The good news is that because we're using **Lightning**, we can pick up where we left off training without starting over from scratch. This is because training with **Lightning** creates _checkpoint_ files that keep track of the Weights and Biases as they change. As a result, all we have to do to pick up where we left off is tell the `Trainer` where the checkpoint files are. This is awesome and will save us a lot of time since we don't have to retrain the first **100** epochs. So, let's add an additional **600** epochs to the training."
   ]
  },
  {
   "cell_type": "markdown",
   "id": "754b8180-976d-4c1e-b2e7-cb45cba434c9",
   "metadata": {},
   "source": [
    "To add additional epochs to the training, we first identify where the checkpoint file is with the following command."
   ]
  },
  {
   "cell_type": "code",
   "execution_count": 14,
   "id": "29bc4c1b-911d-417f-8ab2-9f52712502e8",
   "metadata": {},
   "outputs": [],
   "source": [
    "path_to_checkpoint = trainer.checkpoint_callback.best_model_path ## By default, \"best\" = \"most recent\""
   ]
  },
  {
   "cell_type": "markdown",
   "id": "6d4fd497-997c-4369-9b3e-d25cd0911d5d",
   "metadata": {},
   "source": [
    "Then we create a new **Lightning Trainer**, just like before, but we set the number of epochs to 700. Given that we already trained for 100 epochs, this means we'll do 600 more."
   ]
  },
  {
   "cell_type": "code",
   "execution_count": 15,
   "id": "5a849d2f-bad1-4214-a72b-f1b04174639c",
   "metadata": {},
   "outputs": [
    {
     "name": "stderr",
     "output_type": "stream",
     "text": [
      "GPU available: True (mps), used: True\n",
      "TPU available: False, using: 0 TPU cores\n",
      "HPU available: False, using: 0 HPUs\n",
      "Restoring states from the checkpoint path at /Users/joshstarmer/My Drive/stat_quests/book_statquest_illustrated_guide_to_neural_networks_and_ai/jupyter_notebooks/chapter_06/lightning_logs/version_0/checkpoints/epoch=99-step=200.ckpt\n",
      "/Users/joshstarmer/Library/Python/3.9/lib/python/site-packages/lightning/pytorch/callbacks/model_checkpoint.py:360: The dirpath has changed from '/Users/joshstarmer/My Drive/stat_quests/book_statquest_illustrated_guide_to_neural_networks_and_ai/jupyter_notebooks/chapter_06/lightning_logs/version_0/checkpoints' to '/Users/joshstarmer/My Drive/stat_quests/book_statquest_illustrated_guide_to_neural_networks_and_ai/jupyter_notebooks/chapter_06/lightning_logs/version_1/checkpoints', therefore `best_model_score`, `kth_best_model_path`, `kth_value`, `last_model_path` and `best_k_models` won't be reloaded. Only `best_model_path` will be reloaded.\n",
      "\n",
      "  | Name             | Type             | Params | Mode \n",
      "--------------------------------------------------------------\n",
      "0 | conv             | Conv2d           | 10     | train\n",
      "1 | pool             | MaxPool2d        | 0      | train\n",
      "2 | input_to_hidden  | Linear           | 5      | train\n",
      "3 | hidden_to_output | Linear           | 4      | train\n",
      "4 | loss             | CrossEntropyLoss | 0      | train\n",
      "--------------------------------------------------------------\n",
      "19        Trainable params\n",
      "0         Non-trainable params\n",
      "19        Total params\n",
      "0.000     Total estimated model params size (MB)\n",
      "Restored all states from the checkpoint at /Users/joshstarmer/My Drive/stat_quests/book_statquest_illustrated_guide_to_neural_networks_and_ai/jupyter_notebooks/chapter_06/lightning_logs/version_0/checkpoints/epoch=99-step=200.ckpt\n"
     ]
    },
    {
     "data": {
      "application/vnd.jupyter.widget-view+json": {
       "model_id": "d69f21687e51490b828c9d83d602272c",
       "version_major": 2,
       "version_minor": 0
      },
      "text/plain": [
       "Training: |                                               | 0/? [00:00<?, ?it/s]"
      ]
     },
     "metadata": {},
     "output_type": "display_data"
    },
    {
     "name": "stderr",
     "output_type": "stream",
     "text": [
      "`Trainer.fit` stopped: `max_epochs=700` reached.\n"
     ]
    }
   ],
   "source": [
    "## First, create a new Lightning Trainer\n",
    "trainer = L.Trainer(max_epochs=700) # Before, max_epochs=100, so, by setting it to 700, we're adding 600 more.\n",
    "\n",
    "## Then call trainer.fit() using the path to the most recent checkpoint files\n",
    "## so that we can pick up where we left off.\n",
    "trainer.fit(model, train_dataloaders=dataloader, ckpt_path=path_to_checkpoint)"
   ]
  },
  {
   "cell_type": "markdown",
   "id": "7ca3ecd4-f56d-4a1e-89cc-1f7cf5992a1e",
   "metadata": {},
   "source": [
    "Now, let's see if the predictions have improved after 700 epochs. We'll do this using the same `for` loop that we used before."
   ]
  },
  {
   "cell_type": "code",
   "execution_count": 16,
   "id": "cabdaf11-e107-4b3e-bda8-d6b8d3d820d9",
   "metadata": {},
   "outputs": [
    {
     "name": "stdout",
     "output_type": "stream",
     "text": [
      "predicted_label: tensor([[0.7900, 0.2100]], grad_fn=<RoundBackward1>)\n",
      "original label: tensor([[1., 0.]])\n",
      "\n",
      "\n",
      "predicted_label: tensor([[0.0100, 0.9900]], grad_fn=<RoundBackward1>)\n",
      "original label: tensor([[0., 1.]])\n",
      "\n",
      "\n"
     ]
    }
   ],
   "source": [
    "for batch_num, (image, label) in enumerate(dataloader):\n",
    "    \n",
    "    ## First, run the image through the model to make a prediction\n",
    "    prediction = model(image)\n",
    "    \n",
    "    ## Now make the prediction easy to read and interpret by\n",
    "    ## running it through torch.softmax() and torch.round()\n",
    "    predicted_label = torch.round(torch.softmax(prediction, dim=1), ## dim=0 applies softmax to rows, dim=1 applies soft to columns\n",
    "                                  decimals=2) \n",
    "    \n",
    "    ## Now print out the the predicted label and the original label\n",
    "    ## so we see how well our CNN performed.\n",
    "    print(\"predicted_label:\", predicted_label)\n",
    "    print(\"original label:\", label)\n",
    "    print(\"\\n\")"
   ]
  },
  {
   "cell_type": "markdown",
   "id": "31918cf1-5cfc-475b-b61a-f08525111741",
   "metadata": {},
   "source": [
    "After 700 training epochs, the predicted values are much, much closer to the ideal values. And if we rounded them to the nearest whole number, we'd get the exact labels that we wanted."
   ]
  },
  {
   "cell_type": "markdown",
   "id": "9a78589d-3d39-40a4-81d1-c22caddc6879",
   "metadata": {},
   "source": [
    "# Double BAM!!"
   ]
  },
  {
   "cell_type": "markdown",
   "id": "4e8da8b1-4b5e-42a8-bdaa-3d939716fad2",
   "metadata": {},
   "source": [
    "----"
   ]
  },
  {
   "cell_type": "markdown",
   "id": "b568a1ad-f6d4-436f-8c58-b39371680175",
   "metadata": {},
   "source": [
    "<a id=\"predict\"></a>\n",
    "# Make a Prediction with New Data"
   ]
  },
  {
   "cell_type": "markdown",
   "id": "5c2df2a0-77e3-40dd-8cf5-3a23d66e5098",
   "metadata": {},
   "source": [
    "Now that our model is trained, we can use it to make predictions from new data. Specifically, let's see how well our model predicts an image of the letter **X** that has been shifted over one pixel. First, let's create the image of an **X** shifted by one pixel to the right."
   ]
  },
  {
   "cell_type": "code",
   "execution_count": 17,
   "id": "6f2a2fe8-3418-4adc-93ea-a95ecb717b64",
   "metadata": {},
   "outputs": [
    {
     "data": {
      "text/plain": [
       "[[0, 1, 0, 0, 0, 0],\n",
       " [0, 0, 1, 0, 0, 1],\n",
       " [0, 0, 0, 1, 1, 0],\n",
       " [0, 0, 0, 1, 1, 0],\n",
       " [0, 0, 1, 0, 0, 1],\n",
       " [0, 1, 0, 0, 0, 0]]"
      ]
     },
     "execution_count": 17,
     "metadata": {},
     "output_type": "execute_result"
    }
   ],
   "source": [
    "shifted_x_image = [[0, 1, 0, 0, 0, 0],\n",
    "                   [0, 0, 1, 0, 0, 1],\n",
    "                   [0, 0, 0, 1, 1, 0],\n",
    "                   [0, 0, 0, 1, 1, 0],\n",
    "                   [0, 0, 1, 0, 0, 1],\n",
    "                   [0, 1, 0, 0, 0, 0]]\n",
    "shifted_x_image"
   ]
  },
  {
   "cell_type": "markdown",
   "id": "3bfe61a6-a644-419c-a23f-17b1415dd973",
   "metadata": {},
   "source": [
    "Now, let's verify that we created the correct image by drawing with matplotlib, just like we did earlier."
   ]
  },
  {
   "cell_type": "code",
   "execution_count": 18,
   "id": "48ad7c2a-ff39-4cfb-bb69-2722b723db6f",
   "metadata": {},
   "outputs": [
    {
     "data": {
      "text/plain": [
       "<matplotlib.image.AxesImage at 0x14571e430>"
      ]
     },
     "execution_count": 18,
     "metadata": {},
     "output_type": "execute_result"
    },
    {
     "data": {
      "image/png": "[encoded data removed]",
      "text/plain": [
       "<Figure size 250x250 with 1 Axes>"
      ]
     },
     "metadata": {},
     "output_type": "display_data"
    }
   ],
   "source": [
    "## When we only want to draw one image, we can omit 'nrows' and 'ncols' and \n",
    "## a single drawing element, ax, is returned.\n",
    "fig, ax = plt.subplots(figsize=(2.5, 2.5))\n",
    "ax.imshow(shifted_x_image, cmap='gray_r') ## Setting cmap='gray_r' gives us reverse grayscale."
   ]
  },
  {
   "cell_type": "markdown",
   "id": "ed44d62a-d54c-41c6-b73a-1301b4a6d003",
   "metadata": {},
   "source": [
    "Now that we can see that we correctly created an image of an **X** shifted one pixel to the right, let's see whether or not our trained convolutional neural network can correctly classify it as an **X**."
   ]
  },
  {
   "cell_type": "code",
   "execution_count": 19,
   "id": "616a977c-ffc3-43b0-8f33-096a8284c162",
   "metadata": {},
   "outputs": [
    {
     "data": {
      "text/plain": [
       "tensor([[0.1200, 0.8800]], grad_fn=<RoundBackward1>)"
      ]
     },
     "execution_count": 19,
     "metadata": {},
     "output_type": "execute_result"
    }
   ],
   "source": [
    "## First, let's make a prediction with the new image...\n",
    "prediction = model(torch.tensor([shifted_x_image]).type(torch.float32))\n",
    "\n",
    "## Now make the prediction easy to read and interpret by\n",
    "## running it through torch.softmax() and torch.round()\n",
    "predicted_label = torch.round(torch.softmax(prediction, dim=1), decimals=2) ## dim=0 applies argmax to rows, dim=1 applies argmax to colum\n",
    "\n",
    "predicted_label"
   ]
  },
  {
   "cell_type": "markdown",
   "id": "a1572bb9-c25e-47a8-baf3-a7c09e18f0c8",
   "metadata": {},
   "source": [
    "And we see that the trained network correctly predicted **X** since the second output value, which represents **X**, is larger than the first output value, which represents **O**."
   ]
  },
  {
   "cell_type": "markdown",
   "id": "a3cf5033-422d-4731-bedb-d49b4e82e47b",
   "metadata": {},
   "source": [
    "Now, let's see if our trained network can correctly classify an image of the letter **O** that is shifted one pixel to the left. We'll do this just like we did for the shifted **X**. So, the first thing we do is create the image..."
   ]
  },
  {
   "cell_type": "code",
   "execution_count": 20,
   "id": "32266790-ceda-4ab0-a5e9-2888961c2053",
   "metadata": {},
   "outputs": [
    {
     "data": {
      "text/plain": [
       "[[0, 1, 1, 0, 0, 0],\n",
       " [1, 0, 0, 1, 0, 0],\n",
       " [0, 0, 0, 0, 1, 0],\n",
       " [0, 0, 0, 0, 1, 0],\n",
       " [1, 0, 0, 1, 0, 0],\n",
       " [0, 1, 1, 0, 0, 0]]"
      ]
     },
     "execution_count": 20,
     "metadata": {},
     "output_type": "execute_result"
    }
   ],
   "source": [
    "shifted_o_image = [[0, 1, 1, 0, 0, 0],\n",
    "                   [1, 0, 0, 1, 0, 0],\n",
    "                   [0, 0, 0, 0, 1, 0],\n",
    "                   [0, 0, 0, 0, 1, 0],\n",
    "                   [1, 0, 0, 1, 0, 0],\n",
    "                   [0, 1, 1, 0, 0, 0]]\n",
    "shifted_o_image"
   ]
  },
  {
   "cell_type": "markdown",
   "id": "33752345-a5ff-4154-b402-632ff9d4cfe7",
   "metadata": {},
   "source": [
    "...then we display the image to verify that we made it correctly..."
   ]
  },
  {
   "cell_type": "code",
   "execution_count": 21,
   "id": "0f3ba40a-7912-44e8-96f8-9bfea66c56dd",
   "metadata": {},
   "outputs": [
    {
     "data": {
      "text/plain": [
       "<matplotlib.image.AxesImage at 0x1694ca4f0>"
      ]
     },
     "execution_count": 21,
     "metadata": {},
     "output_type": "execute_result"
    },
    {
     "data": {
      "image/png": "[encoded data removed]",
      "text/plain": [
       "<Figure size 250x250 with 1 Axes>"
      ]
     },
     "metadata": {},
     "output_type": "display_data"
    }
   ],
   "source": [
    "## When we only want to draw one image, we can omit 'nrows' and 'ncols' and \n",
    "## a single drawing element, ax, is returned.\n",
    "fig, ax = plt.subplots(figsize=(2.5, 2.5))\n",
    "ax.imshow(shifted_o_image, cmap='gray_r') ## Setting cmap='gray_r' gives us reverse grayscale."
   ]
  },
  {
   "cell_type": "markdown",
   "id": "36e1c572-113a-4685-bef7-2926783b21c9",
   "metadata": {},
   "source": [
    "Lastly, we run the image through the trained network to make a prediction..."
   ]
  },
  {
   "cell_type": "code",
   "execution_count": 22,
   "id": "2e849cbb-d3e2-4e2a-a7cd-960db3d0630a",
   "metadata": {},
   "outputs": [
    {
     "data": {
      "text/plain": [
       "tensor([[0.4500, 0.5500]], grad_fn=<RoundBackward1>)"
      ]
     },
     "execution_count": 22,
     "metadata": {},
     "output_type": "execute_result"
    }
   ],
   "source": [
    "## Make a prediction with the new image...\n",
    "prediction = model(torch.tensor([shifted_o_image]).type(torch.float32))\n",
    "\n",
    "## Now make the prediction easy to read and interpret by\n",
    "## running it through torch.softmax() and torch.round()\n",
    "predicted_label = torch.round(torch.softmax(prediction, dim=1), decimals=2) ## dim=0 applies argmax to rows, dim=1 applies argmax to colum\n",
    "\n",
    "predicted_label"
   ]
  },
  {
   "cell_type": "markdown",
   "id": "2f076ae9-7efb-4ffb-ae6f-3793d28fb655",
   "metadata": {},
   "source": [
    "And it looks like our network thought that the shifted **O** was an **X**. Oh well.\n",
    "\n",
    "Small bam.\n",
    "\n",
    "However, we learned a lot, and with more training data and more variation in the letters, we might be able to make better predictions in the future!"
   ]
  },
  {
   "cell_type": "markdown",
   "id": "b2940946-b17a-4e9b-ac7f-02cd4f97db91",
   "metadata": {},
   "source": [
    "# TRIPLE BAM!!!"
   ]
  }
 ],
 "metadata": {
  "kernelspec": {
   "display_name": "Python 3 (ipykernel)",
   "language": "python",
   "name": "python3"
  },
  "language_info": {
   "codemirror_mode": {
    "name": "ipython",
    "version": 3
   },
   "file_extension": ".py",
   "mimetype": "text/x-python",
   "name": "python",
   "nbconvert_exporter": "python",
   "pygments_lexer": "ipython3",
   "version": "3.9.6"
  }
 },
 "nbformat": 4,
 "nbformat_minor": 5
}
